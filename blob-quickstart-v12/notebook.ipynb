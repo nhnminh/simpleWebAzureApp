{
 "nbformat": 4,
 "nbformat_minor": 2,
 "metadata": {
  "language_info": {
   "name": "python",
   "codemirror_mode": {
    "name": "ipython",
    "version": 3
   }
  },
  "orig_nbformat": 2,
  "file_extension": ".py",
  "mimetype": "text/x-python",
  "name": "python",
  "npconvert_exporter": "python",
  "pygments_lexer": "ipython3",
  "version": 3
 },
 "cells": [
  {
   "cell_type": "code",
   "execution_count": 3,
   "metadata": {},
   "outputs": [
    {
     "data": {
      "text/html": "<img src=\"https://productphotosml.blob.core.windows.net/photos/uploads/514534.jpg\" width=\"400\"/>",
      "text/plain": "<IPython.core.display.Image object>"
     },
     "metadata": {},
     "output_type": "display_data"
    }
   ],
   "source": [
    "from IPython.display import Image as ipImage, display\n",
    "# Test image url\n",
    "img_url = \"https://productphotosml.blob.core.windows.net/photos/uploads/514534.jpg\"\n",
    "\n",
    "# Let's just take a look at our image using some jupyter/IPython display functions\n",
    "img = ipImage(url=img_url, width=400)\n",
    "display(img)"
   ]
  },
  {
   "cell_type": "code",
   "execution_count": 4,
   "metadata": {},
   "outputs": [
    {
     "name": "stdout",
     "output_type": "stream",
     "text": "{'id': '7c2157c6-6daa-411f-984f-030d16680fa0', 'project': '298ee833-267d-4feb-bfe0-d28fb07bec17', 'iteration': '2164361e-bc2f-480c-b279-c14f9496239b', 'created': '2019-11-18T16:42:10.082Z', 'predictions': [{'probability': 0.174520165, 'tagId': 'c1a95251-fc00-4b72-8140-d22d1bc23211', 'tagName': 'Chipset'}, {'probability': 0.0577087924, 'tagId': 'b110086e-c99e-4dbe-b17c-ab85cb35919c', 'tagName': 'CPU'}, {'probability': 0.000256686646, 'tagId': '0fd78aba-a801-46f7-8168-af4b667eaf93', 'tagName': 'Card'}, {'probability': 0.000212018727, 'tagId': '15e154b4-25ba-4b28-9fda-72334c1eda98', 'tagName': 'GPU'}]}\n"
    }
   ],
   "source": [
    "import requests\n",
    "\n",
    "# Fill in your own values HERE\n",
    "project_id = '298ee833-267d-4feb-bfe0-d28fb07bec17'\n",
    "prediction_key = '7a90d11ea95f459f90a036311e77c873'\n",
    "iteration_id = '2164361e-bc2f-480c-b279-c14f9496239b'\n",
    "\n",
    "# Build the header json for the request\n",
    "headers = {\n",
    "    \"Prediction-key\": prediction_key\n",
    "}\n",
    "\n",
    "# Define the endpoint\n",
    "# url = \"https://southcentralus.api.cognitive.microsoft.com/customvision/v1.0/Prediction/{0}/url?iterationId={1}\".format(project_id, iteration_id)\n",
    "\n",
    "url = \"https://westeurope.api.cognitive.microsoft.com/customvision/v3.0/Prediction/298ee833-267d-4feb-bfe0-d28fb07bec17/classify/iterations/CPU_GPU/url\"\n",
    "\n",
    "# Build the data json for the request\n",
    "data = {\"Url\": img_url }\n",
    "\n",
    "# Build and send a POST request\n",
    "response = requests.post(url, headers=headers, data=data)\n",
    "response = response.json()\n",
    "\n",
    "# The key Project will be in a valid 200 response\n",
    "if 'Project' in response:\n",
    "    for pred in response['Predictions']:\n",
    "        print(\"class: {}, Probability: {}\".format(pred['Tag'], pred['Probability']))\n",
    "else:\n",
    "    print(response)\n"
   ]
  },
  {
   "cell_type": "code",
   "execution_count": null,
   "metadata": {},
   "outputs": [],
   "source": []
  }
 ]
}